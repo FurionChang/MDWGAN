{
 "cells": [
  {
   "cell_type": "code",
   "execution_count": 1,
   "id": "a3549823-6ad6-43f6-ae29-2b2e56ab068c",
   "metadata": {},
   "outputs": [
    {
     "name": "stdout",
     "output_type": "stream",
     "text": [
      "importing Jupyter notebook from functions.ipynb\n"
     ]
    }
   ],
   "source": [
    "%matplotlib inline\n",
    "import torch\n",
    "from torch import nn\n",
    "import numpy as np\n",
    "from torch.utils import data\n",
    "from io import StringIO\n",
    "import random\n",
    "from d2l import torch as d2l\n",
    "from matplotlib import pyplot as plt\n",
    "import torchvision\n",
    "import re\n",
    "import os\n",
    "import glob\n",
    "import ipynb_importer\n",
    "import functions as funcs"
   ]
  },
  {
   "cell_type": "code",
   "execution_count": 65,
   "id": "ed157cf9-0201-47fc-bfa0-9668642f132f",
   "metadata": {},
   "outputs": [],
   "source": [
    "dir_symm_binary = '/home/zhengyang/Data/w_gan_sample0830/pure_gan_symm/'\n",
    "fname_results = glob.glob(os.path.join(dir_symm_binary, '*.pt'))\n",
    "\n",
    "fname_results.sort(key = lambda x:(int(re.split('[.]',re.split('_',x)[5])[0])))\n",
    "# fname_results.sort(key = lambda x:(int(re.split('_',x)[9]),\n",
    "#                                    str(re.split('_',x)[10]),\n",
    "#                                    int(re.split('_',x)[11])))\n",
    "g_struct_s = np.empty([len(fname_results),8,2,6,6,6])\n",
    "sign = -1\n",
    "\n",
    "for i in fname_results:\n",
    "    sign += 1\n",
    "    g_struct = torch.load(i)\n",
    "    g_struct_s[sign,:,:,:,:,:] = g_struct.cpu().detach().numpy()"
   ]
  },
  {
   "cell_type": "code",
   "execution_count": 66,
   "id": "29d5fcbe-df2b-47cc-88ad-d6883b023f52",
   "metadata": {},
   "outputs": [
    {
     "data": {
      "text/plain": [
       "['/home/zhengyang/Data/w_gan_sample0830/pure_gan_symm/sample_0.pt',\n",
       " '/home/zhengyang/Data/w_gan_sample0830/pure_gan_symm/sample_1.pt',\n",
       " '/home/zhengyang/Data/w_gan_sample0830/pure_gan_symm/sample_2.pt',\n",
       " '/home/zhengyang/Data/w_gan_sample0830/pure_gan_symm/sample_3.pt',\n",
       " '/home/zhengyang/Data/w_gan_sample0830/pure_gan_symm/sample_4.pt']"
      ]
     },
     "execution_count": 66,
     "metadata": {},
     "output_type": "execute_result"
    }
   ],
   "source": [
    "fname_results"
   ]
  },
  {
   "cell_type": "code",
   "execution_count": 67,
   "id": "7209cb4e-544d-484b-a466-d3c87a4d1d50",
   "metadata": {},
   "outputs": [
    {
     "data": {
      "text/plain": [
       "(5, 8, 2, 6, 6, 6)"
      ]
     },
     "execution_count": 67,
     "metadata": {},
     "output_type": "execute_result"
    }
   ],
   "source": [
    "g_struct_s.shape"
   ]
  },
  {
   "cell_type": "code",
   "execution_count": 70,
   "id": "3ac41d09-7ae7-4000-b492-59ddbcbb3316",
   "metadata": {},
   "outputs": [
    {
     "data": {
      "text/plain": [
       "array([[[2.        , 2.        , 2.        , 2.        , 2.        ,\n",
       "         2.        ],\n",
       "        [2.        , 2.        , 2.        , 2.        , 2.        ,\n",
       "         2.        ],\n",
       "        [2.        , 2.        , 1.        , 1.        , 2.        ,\n",
       "         2.        ],\n",
       "        [2.        , 2.        , 1.        , 1.        , 2.        ,\n",
       "         2.        ],\n",
       "        [2.        , 2.        , 2.        , 2.        , 2.        ,\n",
       "         2.        ],\n",
       "        [2.        , 2.        , 2.        , 2.        , 2.        ,\n",
       "         2.        ]],\n",
       "\n",
       "       [[1.        , 1.        , 2.        , 2.        , 1.        ,\n",
       "         1.        ],\n",
       "        [1.        , 2.        , 2.        , 2.        , 2.        ,\n",
       "         1.        ],\n",
       "        [2.        , 2.        , 2.        , 2.        , 2.        ,\n",
       "         2.        ],\n",
       "        [2.        , 2.        , 2.        , 2.        , 2.        ,\n",
       "         2.        ],\n",
       "        [1.        , 2.        , 2.        , 2.        , 2.        ,\n",
       "         1.        ],\n",
       "        [1.        , 1.        , 2.        , 2.        , 1.        ,\n",
       "         1.        ]],\n",
       "\n",
       "       [[1.        , 2.        , 1.76620734, 1.69817472, 2.        ,\n",
       "         1.        ],\n",
       "        [2.        , 2.        , 1.        , 1.        , 2.        ,\n",
       "         2.        ],\n",
       "        [1.        , 2.        , 1.        , 1.        , 2.        ,\n",
       "         1.        ],\n",
       "        [1.        , 2.        , 1.        , 1.        , 2.        ,\n",
       "         1.        ],\n",
       "        [2.        , 2.        , 1.        , 1.        , 2.        ,\n",
       "         2.        ],\n",
       "        [1.        , 2.        , 1.59413195, 1.4904902 , 2.        ,\n",
       "         1.        ]],\n",
       "\n",
       "       [[1.        , 2.        , 1.89687395, 1.83016849, 2.        ,\n",
       "         1.        ],\n",
       "        [2.        , 2.        , 1.        , 1.        , 2.        ,\n",
       "         2.        ],\n",
       "        [1.        , 2.        , 1.        , 1.        , 2.        ,\n",
       "         1.        ],\n",
       "        [1.        , 2.        , 1.        , 1.        , 2.        ,\n",
       "         1.        ],\n",
       "        [2.        , 2.        , 1.        , 1.        , 2.        ,\n",
       "         2.        ],\n",
       "        [1.        , 2.        , 1.33027136, 1.35415292, 2.        ,\n",
       "         1.        ]],\n",
       "\n",
       "       [[1.        , 1.        , 2.        , 2.        , 1.        ,\n",
       "         1.        ],\n",
       "        [1.        , 2.        , 2.        , 2.        , 2.        ,\n",
       "         1.        ],\n",
       "        [2.        , 2.        , 2.        , 2.        , 2.        ,\n",
       "         2.        ],\n",
       "        [2.        , 2.        , 2.        , 2.        , 2.        ,\n",
       "         2.        ],\n",
       "        [1.        , 2.        , 2.        , 2.        , 2.        ,\n",
       "         1.        ],\n",
       "        [1.        , 1.        , 2.        , 2.        , 1.        ,\n",
       "         1.        ]],\n",
       "\n",
       "       [[2.        , 2.        , 1.7231009 , 1.74535823, 2.        ,\n",
       "         2.        ],\n",
       "        [2.        , 2.        , 2.        , 2.        , 2.        ,\n",
       "         2.        ],\n",
       "        [2.        , 2.        , 1.        , 1.        , 2.        ,\n",
       "         2.        ],\n",
       "        [2.        , 2.        , 1.        , 1.        , 2.        ,\n",
       "         2.        ],\n",
       "        [2.        , 2.        , 2.        , 2.        , 2.        ,\n",
       "         2.        ],\n",
       "        [2.        , 2.        , 2.        , 2.        , 2.        ,\n",
       "         2.        ]]])"
      ]
     },
     "execution_count": 70,
     "metadata": {},
     "output_type": "execute_result"
    }
   ],
   "source": [
    "g_struct_s[0,7,0,:,:,:][g_struct_s[0,7,0,:,:,:]>1.9] = 2\n",
    "g_struct_s[0,7,0,:,:,:]"
   ]
  },
  {
   "cell_type": "code",
   "execution_count": 55,
   "id": "c06cfe1f-916e-4bb8-8fa3-ba343fa2c72a",
   "metadata": {},
   "outputs": [
    {
     "data": {
      "text/plain": [
       "56"
      ]
     },
     "execution_count": 55,
     "metadata": {},
     "output_type": "execute_result"
    }
   ],
   "source": [
    "sum(sum(sum(g_struct_s[0,7,0,:,:,:]<1.2)))"
   ]
  },
  {
   "cell_type": "markdown",
   "id": "2fe16167-1f80-4c86-87ed-5115e9004ca8",
   "metadata": {},
   "source": [
    "###### sum(sum(sum(abs(g_struct_s[3,0,1,:,:,:]-g_struct_s[5,4,1,:,:,:]))))"
   ]
  },
  {
   "cell_type": "code",
   "execution_count": 22,
   "id": "8dcc6ed3-1633-43aa-ac6c-f4756a2bb8dc",
   "metadata": {},
   "outputs": [],
   "source": [
    "symmz = g_struct_s[1,0,0,:,:,0:3]-np.flip(g_struct_s[1,0,0,:,:,3:6],axis = 2)\n",
    "symmy = g_struct_s[1,0,0,:,0:3,:]-np.flip(g_struct_s[1,0,0,:,3:6,:],axis = 1)\n",
    "symmx = g_struct_s[1,0,0,0:3,:,:]-np.flip(g_struct_s[1,0,0,3:6,:,:],axis = 0)\n",
    "\n",
    "# symmf = g_struct_s-np.flip(g_struct_s)\n",
    "symm_x = abs(symmx)\n",
    "symm_y = abs(symmy)\n",
    "symm_z = abs(symmz)\n",
    "\n",
    "sta_symm_x = np.sum(np.sum(np.sum(symm_x, axis = -1), axis = -1), axis = -1)\n",
    "sta_symm_y = np.sum(np.sum(np.sum(symm_y, axis = -1), axis = -1), axis = -1)\n",
    "sta_symm_z = np.sum(np.sum(np.sum(symm_z, axis = -1), axis = -1), axis = -1)\n",
    "\n",
    "sta_symm_x_mean = np.sum(sta_symm_x)\n",
    "sta_symm_y_mean = np.sum(sta_symm_y)\n",
    "sta_symm_z_mean = np.sum(sta_symm_z)\n",
    "\n",
    "sta_symm_mean = np.array([sta_symm_x_mean, sta_symm_y_mean, sta_symm_z_mean])"
   ]
  },
  {
   "cell_type": "code",
   "execution_count": 14,
   "id": "31111e2a-bf88-4dc9-9bd5-cc7437577e2b",
   "metadata": {},
   "outputs": [
    {
     "data": {
      "text/plain": [
       "56.0"
      ]
     },
     "execution_count": 14,
     "metadata": {},
     "output_type": "execute_result"
    }
   ],
   "source": [
    "sta_symm_x"
   ]
  },
  {
   "cell_type": "code",
   "execution_count": 27,
   "id": "d522c6c8-1ecc-412f-81de-9514f94e286a",
   "metadata": {},
   "outputs": [
    {
     "data": {
      "text/plain": [
       "array([[[-0., -1., -0.],\n",
       "        [ 0.,  0., -0.],\n",
       "        [-1., -0., -0.],\n",
       "        [-1.,  0.,  0.],\n",
       "        [ 1., -1., -0.],\n",
       "        [ 0.,  0.,  0.]],\n",
       "\n",
       "       [[-0., -0., -0.],\n",
       "        [ 0., -0.,  0.],\n",
       "        [ 0., -1., -0.],\n",
       "        [-1.,  0.,  0.],\n",
       "        [ 0., -1.,  0.],\n",
       "        [-0., -0., -1.]],\n",
       "\n",
       "       [[ 0., -0.,  0.],\n",
       "        [ 0., -0.,  1.],\n",
       "        [ 1., -0.,  0.],\n",
       "        [ 0.,  0.,  0.],\n",
       "        [ 0., -1., -0.],\n",
       "        [-1., -1.,  0.]],\n",
       "\n",
       "       [[ 0., -1., -0.],\n",
       "        [ 0., -0., -0.],\n",
       "        [ 0.,  0., -0.],\n",
       "        [ 0., -0., -0.],\n",
       "        [ 0., -0.,  0.],\n",
       "        [-0., -1.,  0.]],\n",
       "\n",
       "       [[ 1.,  1.,  1.],\n",
       "        [ 1.,  0.,  0.],\n",
       "        [-0.,  0.,  0.],\n",
       "        [-0.,  0.,  0.],\n",
       "        [ 1.,  0., -0.],\n",
       "        [-1., -0., -0.]],\n",
       "\n",
       "       [[ 0.,  0.,  1.],\n",
       "        [-0., -0., -0.],\n",
       "        [ 1., -0.,  0.],\n",
       "        [ 1.,  0.,  0.],\n",
       "        [ 1.,  0.,  1.],\n",
       "        [ 0., -0.,  0.]]])"
      ]
     },
     "execution_count": 27,
     "metadata": {},
     "output_type": "execute_result"
    }
   ],
   "source": []
  },
  {
   "cell_type": "code",
   "execution_count": null,
   "id": "2d34ab3f-82d1-4a9d-84b3-10a702d39919",
   "metadata": {},
   "outputs": [],
   "source": []
  }
 ],
 "metadata": {
  "kernelspec": {
   "display_name": "Python 3",
   "language": "python",
   "name": "python3"
  },
  "language_info": {
   "codemirror_mode": {
    "name": "ipython",
    "version": 3
   },
   "file_extension": ".py",
   "mimetype": "text/x-python",
   "name": "python",
   "nbconvert_exporter": "python",
   "pygments_lexer": "ipython3",
   "version": "3.8.10"
  }
 },
 "nbformat": 4,
 "nbformat_minor": 5
}
