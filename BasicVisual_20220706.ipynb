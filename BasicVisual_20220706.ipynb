{
 "cells": [
  {
   "cell_type": "code",
   "execution_count": 1,
   "id": "543fc5aa-9de9-4053-a1cf-f96b3726a2b2",
   "metadata": {
    "tags": []
   },
   "outputs": [
    {
     "name": "stdout",
     "output_type": "stream",
     "text": [
      "Using matplotlib backend: TkAgg\n"
     ]
    }
   ],
   "source": [
    "%matplotlib\n",
    "# %matplotlib inline\n",
    "# %matplotlib auto\n",
    "import IPython\n",
    "from mpl_toolkits.mplot3d import axes3d\n",
    "import torch\n",
    "from torch import nn\n",
    "import numpy as np\n",
    "from torch.utils import data\n",
    "from io import StringIO\n",
    "import random\n",
    "from d2l import torch as d2l\n",
    "from matplotlib import pyplot as plt\n",
    "import glob\n",
    "import os\n",
    "import re\n"
   ]
  },
  {
   "cell_type": "code",
   "execution_count": 2,
   "id": "36cc8f62-8bf0-4dfc-be69-c700dce159d1",
   "metadata": {},
   "outputs": [],
   "source": [
    "# import generated struture\n",
    "ht = 6\n",
    "\n",
    "fresults_dir0 = (r'/home/zhengyang/Data/generate_samples_binary_0706/')\n",
    "fname_results = glob.glob(os.path.join(fresults_dir0 ,'*.pt'))\n",
    "fname_results \n",
    "fname_results.sort(key = lambda x:(int(re.split('_',x)[5]),\n",
    "                                       int(re.split('_',x)[7]),\n",
    "                                           int(re.split('_',x)[9])))\n",
    "for i in fname_results:\n",
    "    g_struct = torch.load(i)\n",
    "    # generated struture to element number\n",
    "    g_struct = g_struct[1][1].cpu()\n",
    "    gs_np = g_struct.numpy()\n",
    "    gs_np_lgc_re = gs_np > 0\n",
    "    gs_np_lgc_ma = gs_np < 1\n",
    "    # gs_dim1 = gs_np.reshape(-1)\n",
    "    # index_re = np.argwhere(gs_dim1) + 1\n",
    "    # index_ma = np.argwhere(gs_dim1==0) + 1"
   ]
  },
  {
   "cell_type": "code",
   "execution_count": 3,
   "id": "da3761bc-63e0-49b1-81c3-ac90b3399431",
   "metadata": {},
   "outputs": [
    {
     "ename": "NameError",
     "evalue": "name 'g_struct' is not defined",
     "output_type": "error",
     "traceback": [
      "\u001b[0;31m---------------------------------------------------------------------------\u001b[0m",
      "\u001b[0;31mNameError\u001b[0m                                 Traceback (most recent call last)",
      "\u001b[0;32m<ipython-input-3-cb236ea90717>\u001b[0m in \u001b[0;36m<module>\u001b[0;34m\u001b[0m\n\u001b[0;32m----> 1\u001b[0;31m \u001b[0mg_struct\u001b[0m\u001b[0;34m.\u001b[0m\u001b[0mshape\u001b[0m\u001b[0;34m\u001b[0m\u001b[0;34m\u001b[0m\u001b[0m\n\u001b[0m",
      "\u001b[0;31mNameError\u001b[0m: name 'g_struct' is not defined"
     ]
    }
   ],
   "source": [
    "g_struct.shape"
   ]
  },
  {
   "cell_type": "code",
   "execution_count": 4,
   "id": "bf23e3a9-147c-4921-83c0-bb065f6945f4",
   "metadata": {},
   "outputs": [
    {
     "ename": "NameError",
     "evalue": "name 'gs_np_lgc_re' is not defined",
     "output_type": "error",
     "traceback": [
      "\u001b[0;31m---------------------------------------------------------------------------\u001b[0m",
      "\u001b[0;31mNameError\u001b[0m                                 Traceback (most recent call last)",
      "\u001b[0;32m<ipython-input-4-de9d9a9eb6f3>\u001b[0m in \u001b[0;36m<module>\u001b[0;34m\u001b[0m\n\u001b[1;32m      1\u001b[0m \u001b[0max\u001b[0m \u001b[0;34m=\u001b[0m \u001b[0mplt\u001b[0m\u001b[0;34m.\u001b[0m\u001b[0mfigure\u001b[0m\u001b[0;34m(\u001b[0m\u001b[0mfigsize\u001b[0m\u001b[0;34m=\u001b[0m\u001b[0;34m(\u001b[0m\u001b[0;36m10\u001b[0m\u001b[0;34m,\u001b[0m\u001b[0;36m15\u001b[0m\u001b[0;34m)\u001b[0m\u001b[0;34m)\u001b[0m\u001b[0;34m.\u001b[0m\u001b[0madd_subplot\u001b[0m\u001b[0;34m(\u001b[0m\u001b[0mprojection\u001b[0m\u001b[0;34m=\u001b[0m\u001b[0;34m'3d'\u001b[0m\u001b[0;34m)\u001b[0m\u001b[0;34m\u001b[0m\u001b[0;34m\u001b[0m\u001b[0m\n\u001b[0;32m----> 2\u001b[0;31m \u001b[0max\u001b[0m\u001b[0;34m.\u001b[0m\u001b[0mvoxels\u001b[0m\u001b[0;34m(\u001b[0m\u001b[0mgs_np_lgc_re\u001b[0m\u001b[0;34m,\u001b[0m \u001b[0medgecolor\u001b[0m\u001b[0;34m=\u001b[0m\u001b[0;34m'None'\u001b[0m\u001b[0;34m)\u001b[0m\u001b[0;34m\u001b[0m\u001b[0;34m\u001b[0m\u001b[0m\n\u001b[0m\u001b[1;32m      3\u001b[0m \u001b[0max\u001b[0m\u001b[0;34m.\u001b[0m\u001b[0mset_xlim\u001b[0m\u001b[0;34m(\u001b[0m\u001b[0;36m0\u001b[0m\u001b[0;34m,\u001b[0m\u001b[0;36m6\u001b[0m\u001b[0;34m)\u001b[0m\u001b[0;34m\u001b[0m\u001b[0;34m\u001b[0m\u001b[0m\n\u001b[1;32m      4\u001b[0m \u001b[0max\u001b[0m\u001b[0;34m.\u001b[0m\u001b[0mset_ylim\u001b[0m\u001b[0;34m(\u001b[0m\u001b[0;36m0\u001b[0m\u001b[0;34m,\u001b[0m\u001b[0;36m6\u001b[0m\u001b[0;34m)\u001b[0m\u001b[0;34m\u001b[0m\u001b[0;34m\u001b[0m\u001b[0m\n\u001b[1;32m      5\u001b[0m \u001b[0max\u001b[0m\u001b[0;34m.\u001b[0m\u001b[0mset_zlim\u001b[0m\u001b[0;34m(\u001b[0m\u001b[0;36m0\u001b[0m\u001b[0;34m,\u001b[0m\u001b[0;36m6\u001b[0m\u001b[0;34m)\u001b[0m\u001b[0;34m\u001b[0m\u001b[0;34m\u001b[0m\u001b[0m\n",
      "\u001b[0;31mNameError\u001b[0m: name 'gs_np_lgc_re' is not defined"
     ]
    }
   ],
   "source": [
    "ax = plt.figure(figsize=(10,15)).add_subplot(projection='3d')\n",
    "ax.voxels(gs_np_lgc_re, edgecolor='None')\n",
    "ax.set_xlim(0,6)\n",
    "ax.set_ylim(0,6)\n",
    "ax.set_zlim(0,6)\n",
    "\n"
   ]
  },
  {
   "cell_type": "code",
   "execution_count": 6,
   "id": "082b41ce-6054-46dc-aa9d-5d91a934f9e8",
   "metadata": {},
   "outputs": [
    {
     "data": {
      "text/plain": [
       "(0.0, 6.0)"
      ]
     },
     "execution_count": 6,
     "metadata": {},
     "output_type": "execute_result"
    }
   ],
   "source": [
    "# plt.save()\n",
    "ax = plt.figure(figsize=(10,15)).add_subplot(projection='3d')\n",
    "ax.voxels(gs_np_lgc_ma, edgecolor='None')\n",
    "ax.set_xlim(0,6)\n",
    "ax.set_ylim(0,6)\n",
    "ax.set_zlim(0,6)\n",
    "\n"
   ]
  },
  {
   "cell_type": "code",
   "execution_count": 8,
   "id": "90d7de02-bf49-4102-94c8-dd1cb7c3fd0a",
   "metadata": {},
   "outputs": [
    {
     "data": {
      "text/plain": [
       "(0.0, 6.0)"
      ]
     },
     "execution_count": 8,
     "metadata": {},
     "output_type": "execute_result"
    }
   ],
   "source": [
    "ax = plt.figure(figsize=(10,10)).add_subplot(projection='3d')\n",
    "ax.voxels(gs_np_lgc_re, edgecolor='None')\n",
    "ax.voxels(gs_np_lgc_ma, edgecolor='None')\n",
    "ax.set_xlim(0,6)\n",
    "ax.set_ylim(0,6)\n",
    "ax.set_zlim(0,6)"
   ]
  },
  {
   "cell_type": "code",
   "execution_count": null,
   "id": "82c36c56-441b-45c3-93f3-c03871ef9f28",
   "metadata": {},
   "outputs": [],
   "source": []
  }
 ],
 "metadata": {
  "kernelspec": {
   "display_name": "Python 3",
   "language": "python",
   "name": "python3"
  },
  "language_info": {
   "codemirror_mode": {
    "name": "ipython",
    "version": 3
   },
   "file_extension": ".py",
   "mimetype": "text/x-python",
   "name": "python",
   "nbconvert_exporter": "python",
   "pygments_lexer": "ipython3",
   "version": "3.8.8"
  }
 },
 "nbformat": 4,
 "nbformat_minor": 5
}
